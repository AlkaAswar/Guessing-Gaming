{
 "cells": [
  {
   "cell_type": "code",
   "execution_count": 1,
   "id": "9888b41e",
   "metadata": {},
   "outputs": [],
   "source": [
    "import random"
   ]
  },
  {
   "cell_type": "code",
   "execution_count": 11,
   "id": "a7019983",
   "metadata": {},
   "outputs": [
    {
     "name": "stdout",
     "output_type": "stream",
     "text": [
      "Guess the number22\n",
      "Guess Higher\n",
      "Guess the number30\n",
      "Guess Lower\n",
      "Guess the number24\n",
      "Guess Higher\n",
      "Guess the number26\n",
      "Correct Guessing  in  4 Attepts\n"
     ]
    }
   ],
   "source": [
    "Jackpot=random.randint(1,100)\n",
    "count=1\n",
    "Guess=int(input(\"Guess the number\"))\n",
    "while Guess!=Jackpot:\n",
    "    if Guess<Jackpot:\n",
    "        print(\"Guess Higher\")\n",
    "    else:\n",
    "        print(\"Guess Lower\")\n",
    "    Guess=int(input(\"Guess the number\"))\n",
    "    count=count+1\n",
    "print(\"Correct Guessing  in \" ,count,\"Attepts\")"
   ]
  },
  {
   "cell_type": "markdown",
   "id": "188dd86d",
   "metadata": {},
   "source": [
    " "
   ]
  }
 ],
 "metadata": {
  "kernelspec": {
   "display_name": "Python 3 (ipykernel)",
   "language": "python",
   "name": "python3"
  },
  "language_info": {
   "codemirror_mode": {
    "name": "ipython",
    "version": 3
   },
   "file_extension": ".py",
   "mimetype": "text/x-python",
   "name": "python",
   "nbconvert_exporter": "python",
   "pygments_lexer": "ipython3",
   "version": "3.9.7"
  }
 },
 "nbformat": 4,
 "nbformat_minor": 5
}
